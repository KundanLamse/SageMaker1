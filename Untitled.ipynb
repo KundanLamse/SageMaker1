{
 "cells": [
  {
   "cell_type": "code",
   "execution_count": 27,
   "id": "ddba8071",
   "metadata": {},
   "outputs": [],
   "source": [
    "import sagemaker\n",
    "import boto3\n",
    "from sagemaker.amazon.amazon_estimator import get_image_uri\n",
    "from sagemaker.session import s3_input,Session"
   ]
  },
  {
   "cell_type": "code",
   "execution_count": 15,
   "id": "19238caf",
   "metadata": {},
   "outputs": [
    {
     "name": "stdout",
     "output_type": "stream",
     "text": [
      "us-east-1\n"
     ]
    }
   ],
   "source": [
    "bucket_name=\"app-bucket1-kundan16\"\n",
    "my_region=boto3.session.Session().region_name\n",
    "print(my_region)"
   ]
  },
  {
   "cell_type": "code",
   "execution_count": 16,
   "id": "a303e608",
   "metadata": {},
   "outputs": [
    {
     "name": "stdout",
     "output_type": "stream",
     "text": [
      "S3 bucket created successfully\n"
     ]
    }
   ],
   "source": [
    "s3=boto3.resource('s3')\n",
    "try:\n",
    "    if my_region == 'us-east-1':\n",
    "        s3.create_bucket(Bucket=bucket_name)\n",
    "    print('S3 bucket created successfully')\n",
    "except Exception as e:\n",
    "    print(\"Error\",e)"
   ]
  },
  {
   "cell_type": "code",
   "execution_count": 17,
   "id": "81d26c4e",
   "metadata": {},
   "outputs": [
    {
     "name": "stdout",
     "output_type": "stream",
     "text": [
      "s3://app-bucket1-kundan16/xgboost-as-a-built-in-algo/output\n"
     ]
    }
   ],
   "source": [
    "#Setting an output path where trained model will be saved\n",
    "prefix='xgboost-as-a-built-in-algo'\n",
    "out_path='s3://{}/{}/output'.format(bucket_name,prefix)\n",
    "print(out_path)"
   ]
  },
  {
   "cell_type": "code",
   "execution_count": 18,
   "id": "dea3dc99",
   "metadata": {},
   "outputs": [
    {
     "name": "stdout",
     "output_type": "stream",
     "text": [
      "Success: downloaded bank_clean.csv.\n",
      "Success: Data loaded into dataframe.\n"
     ]
    }
   ],
   "source": [
    "import pandas as pd\n",
    "import urllib\n",
    "try:\n",
    "    urllib.request.urlretrieve (\"https://d1.awsstatic.com/tmt/build-train-deploy-machine-learning-model-sagemaker/bank_clean.27f01fbbdf43271788427f3682996ae29ceca05d.csv\", \"bank_clean.csv\")\n",
    "    print('Success: downloaded bank_clean.csv.')\n",
    "except Exception as e:\n",
    "    print('Data load error: ',e)\n",
    "\n",
    "try:\n",
    "    model_data = pd.read_csv('./bank_clean.csv',index_col=0)\n",
    "    print('Success: Data loaded into dataframe.')\n",
    "except Exception as e:\n",
    "    print('Data load error: ',e)"
   ]
  },
  {
   "cell_type": "code",
   "execution_count": 19,
   "id": "8fd4f66a",
   "metadata": {},
   "outputs": [
    {
     "name": "stdout",
     "output_type": "stream",
     "text": [
      "(28831, 61) (12357, 61)\n"
     ]
    },
    {
     "name": "stderr",
     "output_type": "stream",
     "text": [
      "/home/ec2-user/anaconda3/envs/python3/lib/python3.10/site-packages/numpy/core/fromnumeric.py:57: FutureWarning: 'DataFrame.swapaxes' is deprecated and will be removed in a future version. Please use 'DataFrame.transpose' instead.\n",
      "  return bound(*args, **kwds)\n"
     ]
    }
   ],
   "source": [
    "import numpy as np\n",
    "train_data, test_data = np.split(model_data.sample(frac=1, random_state=1729), [int(0.7 * len(model_data))])\n",
    "print(train_data.shape, test_data.shape)"
   ]
  },
  {
   "cell_type": "code",
   "execution_count": 24,
   "id": "d92e0cc8",
   "metadata": {},
   "outputs": [],
   "source": [
    "#Putting training data into bucket\n",
    "import os\n",
    "pd.concat([train_data['y_yes'], train_data.drop(['y_no', 'y_yes'], \n",
    "                                                axis=1)], \n",
    "                                                axis=1).to_csv('train.csv', index=False, header=False)\n",
    "boto3.Session().resource('s3').Bucket(bucket_name).Object(os.path.join(prefix, 'train/train.csv')).upload_file('train.csv')\n",
    "s3_input_train = sagemaker.TrainingInput(s3_data='s3://{}/{}/train'.format(bucket_name, prefix), content_type='csv')"
   ]
  },
  {
   "cell_type": "code",
   "execution_count": 25,
   "id": "184b58f9",
   "metadata": {},
   "outputs": [],
   "source": [
    "#Putting test data into bucket\n",
    "pd.concat([test_data['y_yes'], test_data.drop(['y_no', 'y_yes'], axis=1)], axis=1).to_csv('test.csv', index=False, header=False)\n",
    "boto3.Session().resource('s3').Bucket(bucket_name).Object(os.path.join(prefix, 'test/test.csv')).upload_file('test.csv')\n",
    "s3_input_test = sagemaker.TrainingInput(s3_data='s3://{}/{}/test'.format(bucket_name, prefix), content_type='csv')\n",
    "     "
   ]
  },
  {
   "cell_type": "code",
   "execution_count": 29,
   "id": "2f6f0f49",
   "metadata": {},
   "outputs": [],
   "source": [
    "from sagemaker import image_uris\n",
    "\n",
    "container = image_uris.retrieve(framework='xgboost', region=boto3.Session().region_name, version='1.0-1')\n"
   ]
  },
  {
   "cell_type": "code",
   "execution_count": 43,
   "id": "3cac5833",
   "metadata": {},
   "outputs": [],
   "source": [
    "hyperparameters = {\n",
    "    \"max_depth\":\"6\",\n",
    "    \"eta\":\"0.2\",\n",
    "    \"gamma\":\"4\",\n",
    "    \"min_child_weight\":\"6\",\n",
    "    \"subsample\":\"0.7\",\n",
    "    \"objective\":\"binary:logistic\",\n",
    "    \"num_round\":\"50\"\n",
    "    \n",
    "}"
   ]
  },
  {
   "cell_type": "code",
   "execution_count": 44,
   "id": "a82690f5",
   "metadata": {},
   "outputs": [],
   "source": [
    "#constructing a Sagemaker estimator that calls the xgboost-contanier\n",
    "\n",
    "estimator = sagemaker.estimator.Estimator(image_uri=container, \n",
    "                                          hyperparameters=hyperparameters,\n",
    "                                          role=sagemaker.get_execution_role(),\n",
    "                                          instance_count=1, \n",
    "                                          instance_type='ml.m5.large', \n",
    "                                          volume_size=5, # 5 GB \n",
    "                                          output_path=out_path,\n",
    "                                          use_spot_instances=True,\n",
    "                                          max_run=300,\n",
    "                                          max_wait=800)\n",
    "     "
   ]
  },
  {
   "cell_type": "code",
   "execution_count": 41,
   "id": "c0bb9cf9",
   "metadata": {},
   "outputs": [
    {
     "data": {
      "text/plain": [
       "<sagemaker.estimator.Estimator at 0x7fe7bb85e5c0>"
      ]
     },
     "execution_count": 41,
     "metadata": {},
     "output_type": "execute_result"
    }
   ],
   "source": [
    "estimator"
   ]
  },
  {
   "cell_type": "code",
   "execution_count": 45,
   "id": "69781f09",
   "metadata": {},
   "outputs": [
    {
     "name": "stderr",
     "output_type": "stream",
     "text": [
      "INFO:sagemaker:Creating training-job with name: sagemaker-xgboost-2024-08-07-14-14-02-531\n"
     ]
    },
    {
     "name": "stdout",
     "output_type": "stream",
     "text": [
      "2024-08-07 14:14:02 Starting - Starting the training job...\n",
      "2024-08-07 14:14:18 Starting - Preparing the instances for training...\n",
      "2024-08-07 14:14:49 Downloading - Downloading input data......\n",
      "2024-08-07 14:15:34 Downloading - Downloading the training image...\n",
      "2024-08-07 14:16:20 Training - Training image download completed. Training in progress.\u001b[34m[2024-08-07 14:16:23.362 ip-10-0-215-22.ec2.internal:8 INFO utils.py:27] RULE_JOB_STOP_SIGNAL_FILENAME: None\u001b[0m\n",
      "\u001b[34mINFO:sagemaker-containers:Imported framework sagemaker_xgboost_container.training\u001b[0m\n",
      "\u001b[34mINFO:sagemaker-containers:Failed to parse hyperparameter objective value binary:logistic to Json.\u001b[0m\n",
      "\u001b[34mReturning the value itself\u001b[0m\n",
      "\u001b[34mINFO:sagemaker-containers:No GPUs detected (normal if no gpus installed)\u001b[0m\n",
      "\u001b[34mINFO:sagemaker_xgboost_container.training:Running XGBoost Sagemaker in algorithm mode\u001b[0m\n",
      "\u001b[34mINFO:root:Determined delimiter of CSV input is ','\u001b[0m\n",
      "\u001b[34mINFO:root:Determined delimiter of CSV input is ','\u001b[0m\n",
      "\u001b[34mINFO:root:Determined delimiter of CSV input is ','\u001b[0m\n",
      "\u001b[34mINFO:root:Determined delimiter of CSV input is ','\u001b[0m\n",
      "\u001b[34mINFO:root:Single node training.\u001b[0m\n",
      "\u001b[34m[14:16:23] 28831x59 matrix with 1701029 entries loaded from /opt/ml/input/data/train?format=csv&label_column=0&delimiter=,\u001b[0m\n",
      "\u001b[34m[14:16:23] 12357x59 matrix with 729063 entries loaded from /opt/ml/input/data/validation?format=csv&label_column=0&delimiter=,\u001b[0m\n",
      "\u001b[34m[2024-08-07 14:16:23.564 ip-10-0-215-22.ec2.internal:8 INFO json_config.py:91] Creating hook from json_config at /opt/ml/input/config/debughookconfig.json.\u001b[0m\n",
      "\u001b[34m[2024-08-07 14:16:23.565 ip-10-0-215-22.ec2.internal:8 INFO hook.py:201] tensorboard_dir has not been set for the hook. SMDebug will not be exporting tensorboard summaries.\u001b[0m\n",
      "\u001b[34m[2024-08-07 14:16:23.565 ip-10-0-215-22.ec2.internal:8 INFO profiler_config_parser.py:102] User has disabled profiler.\u001b[0m\n",
      "\u001b[34m[2024-08-07 14:16:23.566 ip-10-0-215-22.ec2.internal:8 INFO hook.py:255] Saving to /opt/ml/output/tensors\u001b[0m\n",
      "\u001b[34m[2024-08-07 14:16:23.566 ip-10-0-215-22.ec2.internal:8 INFO state_store.py:77] The checkpoint config file /opt/ml/input/config/checkpointconfig.json does not exist.\u001b[0m\n",
      "\u001b[34mINFO:root:Debug hook created from config\u001b[0m\n",
      "\u001b[34mINFO:root:Train matrix has 28831 rows\u001b[0m\n",
      "\u001b[34mINFO:root:Validation matrix has 12357 rows\u001b[0m\n",
      "\u001b[34m[14:16:23] WARNING: /workspace/src/learner.cc:328: \u001b[0m\n",
      "\u001b[34mParameters: { num_round } might not be used.\n",
      "  This may not be accurate due to some parameters are only used in language bindings but\n",
      "  passed down to XGBoost core.  Or some parameters are not used but slip through this\n",
      "  verification. Please open an issue if you find above cases.\u001b[0m\n",
      "\u001b[34m[0]#011train-error:0.10079#011validation-error:0.10528\u001b[0m\n",
      "\u001b[34m[2024-08-07 14:16:23.704 ip-10-0-215-22.ec2.internal:8 INFO hook.py:423] Monitoring the collections: metrics\u001b[0m\n",
      "\u001b[34m[2024-08-07 14:16:23.706 ip-10-0-215-22.ec2.internal:8 INFO hook.py:486] Hook is writing from the hook with pid: 8\u001b[0m\n",
      "\u001b[34m[1]#011train-error:0.09965#011validation-error:0.10358\u001b[0m\n",
      "\u001b[34m[2]#011train-error:0.09996#011validation-error:0.10464\u001b[0m\n",
      "\u001b[34m[3]#011train-error:0.09961#011validation-error:0.10350\u001b[0m\n",
      "\u001b[34m[4]#011train-error:0.09975#011validation-error:0.10334\u001b[0m\n",
      "\u001b[34m[5]#011train-error:0.09913#011validation-error:0.10318\u001b[0m\n",
      "\u001b[34m[6]#011train-error:0.09944#011validation-error:0.10342\u001b[0m\n",
      "\u001b[34m[7]#011train-error:0.09930#011validation-error:0.10310\u001b[0m\n",
      "\u001b[34m[8]#011train-error:0.09896#011validation-error:0.10261\u001b[0m\n",
      "\u001b[34m[9]#011train-error:0.09875#011validation-error:0.10278\u001b[0m\n",
      "\u001b[34m[10]#011train-error:0.09906#011validation-error:0.10326\u001b[0m\n",
      "\u001b[34m[11]#011train-error:0.09857#011validation-error:0.10310\u001b[0m\n",
      "\u001b[34m[12]#011train-error:0.09840#011validation-error:0.10318\u001b[0m\n",
      "\u001b[34m[13]#011train-error:0.09830#011validation-error:0.10326\u001b[0m\n",
      "\u001b[34m[14]#011train-error:0.09819#011validation-error:0.10358\u001b[0m\n",
      "\u001b[34m[15]#011train-error:0.09802#011validation-error:0.10358\u001b[0m\n",
      "\u001b[34m[16]#011train-error:0.09792#011validation-error:0.10350\u001b[0m\n",
      "\u001b[34m[17]#011train-error:0.09802#011validation-error:0.10358\u001b[0m\n",
      "\u001b[34m[18]#011train-error:0.09805#011validation-error:0.10431\u001b[0m\n",
      "\u001b[34m[19]#011train-error:0.09795#011validation-error:0.10431\u001b[0m\n",
      "\u001b[34m[20]#011train-error:0.09805#011validation-error:0.10399\u001b[0m\n",
      "\u001b[34m[21]#011train-error:0.09743#011validation-error:0.10439\u001b[0m\n",
      "\u001b[34m[22]#011train-error:0.09771#011validation-error:0.10391\u001b[0m\n",
      "\u001b[34m[23]#011train-error:0.09778#011validation-error:0.10439\u001b[0m\n",
      "\u001b[34m[24]#011train-error:0.09771#011validation-error:0.10407\u001b[0m\n",
      "\u001b[34m[25]#011train-error:0.09767#011validation-error:0.10407\u001b[0m\n",
      "\u001b[34m[26]#011train-error:0.09767#011validation-error:0.10391\u001b[0m\n",
      "\u001b[34m[27]#011train-error:0.09739#011validation-error:0.10439\u001b[0m\n",
      "\u001b[34m[28]#011train-error:0.09746#011validation-error:0.10399\u001b[0m\n",
      "\u001b[34m[29]#011train-error:0.09726#011validation-error:0.10391\u001b[0m\n",
      "\u001b[34m[30]#011train-error:0.09708#011validation-error:0.10383\u001b[0m\n",
      "\u001b[34m[31]#011train-error:0.09712#011validation-error:0.10350\u001b[0m\n",
      "\u001b[34m[32]#011train-error:0.09701#011validation-error:0.10375\u001b[0m\n",
      "\u001b[34m[33]#011train-error:0.09698#011validation-error:0.10326\u001b[0m\n",
      "\u001b[34m[34]#011train-error:0.09681#011validation-error:0.10310\u001b[0m\n",
      "\u001b[34m[35]#011train-error:0.09691#011validation-error:0.10269\u001b[0m\n",
      "\u001b[34m[36]#011train-error:0.09667#011validation-error:0.10294\u001b[0m\n",
      "\u001b[34m[37]#011train-error:0.09698#011validation-error:0.10318\u001b[0m\n",
      "\u001b[34m[38]#011train-error:0.09667#011validation-error:0.10367\u001b[0m\n",
      "\u001b[34m[39]#011train-error:0.09660#011validation-error:0.10326\u001b[0m\n",
      "\u001b[34m[40]#011train-error:0.09646#011validation-error:0.10326\u001b[0m\n",
      "\u001b[34m[41]#011train-error:0.09604#011validation-error:0.10278\u001b[0m\n",
      "\u001b[34m[42]#011train-error:0.09594#011validation-error:0.10253\u001b[0m\n",
      "\u001b[34m[43]#011train-error:0.09594#011validation-error:0.10261\u001b[0m\n",
      "\u001b[34m[44]#011train-error:0.09590#011validation-error:0.10261\u001b[0m\n",
      "\u001b[34m[45]#011train-error:0.09594#011validation-error:0.10302\u001b[0m\n",
      "\u001b[34m[46]#011train-error:0.09618#011validation-error:0.10269\u001b[0m\n",
      "\u001b[34m[47]#011train-error:0.09604#011validation-error:0.10318\u001b[0m\n",
      "\u001b[34m[48]#011train-error:0.09615#011validation-error:0.10302\u001b[0m\n",
      "\u001b[34m[49]#011train-error:0.09615#011validation-error:0.10326\u001b[0m\n",
      "\n",
      "2024-08-07 14:16:49 Uploading - Uploading generated training model\n",
      "2024-08-07 14:16:49 Completed - Training job completed\n",
      "Training seconds: 120\n",
      "Billable seconds: 40\n",
      "Managed Spot Training savings: 66.7%\n"
     ]
    }
   ],
   "source": [
    "estimator.fit({'train':s3_input_train,'validation':s3_input_test})"
   ]
  },
  {
   "cell_type": "code",
   "execution_count": null,
   "id": "2c0f71c9",
   "metadata": {},
   "outputs": [],
   "source": [
    "#9.615% error on the train data and 10.326 on the test data\n",
    "\n",
    "#This means no over or underfitting has happened\n",
    "\n"
   ]
  },
  {
   "cell_type": "code",
   "execution_count": 46,
   "id": "157e1407",
   "metadata": {},
   "outputs": [
    {
     "name": "stderr",
     "output_type": "stream",
     "text": [
      "INFO:sagemaker:Creating model with name: sagemaker-xgboost-2024-08-07-14-25-54-491\n",
      "INFO:sagemaker:Creating endpoint-config with name sagemaker-xgboost-2024-08-07-14-25-54-491\n",
      "INFO:sagemaker:Creating endpoint with name sagemaker-xgboost-2024-08-07-14-25-54-491\n"
     ]
    },
    {
     "name": "stdout",
     "output_type": "stream",
     "text": [
      "------!"
     ]
    }
   ],
   "source": [
    "#Deploy Now\n",
    "\n",
    "xgb_predictor=estimator.deploy(initial_instance_count=1,instance_type='ml.m4.xlarge')"
   ]
  },
  {
   "cell_type": "code",
   "execution_count": null,
   "id": "e9dda170",
   "metadata": {},
   "outputs": [],
   "source": []
  },
  {
   "cell_type": "code",
   "execution_count": null,
   "id": "9eeec7f4",
   "metadata": {},
   "outputs": [],
   "source": []
  }
 ],
 "metadata": {
  "kernelspec": {
   "display_name": "conda_python3",
   "language": "python",
   "name": "conda_python3"
  },
  "language_info": {
   "codemirror_mode": {
    "name": "ipython",
    "version": 3
   },
   "file_extension": ".py",
   "mimetype": "text/x-python",
   "name": "python",
   "nbconvert_exporter": "python",
   "pygments_lexer": "ipython3",
   "version": "3.10.14"
  }
 },
 "nbformat": 4,
 "nbformat_minor": 5
}
